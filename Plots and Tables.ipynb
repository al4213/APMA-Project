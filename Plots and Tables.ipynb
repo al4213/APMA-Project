{
 "cells": [
  {
   "cell_type": "markdown",
   "id": "8d53aa06",
   "metadata": {},
   "source": [
    "# APMA Final Project Graph Production\n"
   ]
  },
  {
   "cell_type": "code",
   "execution_count": 1,
   "id": "e013b55f",
   "metadata": {},
   "outputs": [
    {
     "name": "stdout",
     "output_type": "stream",
     "text": [
      "Requirement already satisfied: tabulate in d:\\code\\lib\\site-packages (0.8.9)\n"
     ]
    }
   ],
   "source": [
    "## Imports\n",
    "import numpy as np\n",
    "!pip install tabulate\n",
    "from tabulate import tabulate\n",
    "import matplotlib.pyplot as plt\n"
   ]
  },
  {
   "cell_type": "markdown",
   "id": "1e90619c",
   "metadata": {},
   "source": [
    "## Raw Execution Times for 10 Runs\n",
    "The first section has the raw run times. The second section will have the averaged run times. The run times are averaged between 10 runs. The run times have a bit of noise and they are averaged in hopes of having a more accurate representation of the time. "
   ]
  },
  {
   "cell_type": "markdown",
   "id": "d3a1d7c1",
   "metadata": {},
   "source": [
    "### Execution Time of Batch Gradient Descent without OpenMP"
   ]
  },
  {
   "cell_type": "code",
   "execution_count": 2,
   "id": "6fbe25b2",
   "metadata": {},
   "outputs": [],
   "source": [
    "BGD_NONE = [ 60471,\n",
    " 58888,\n",
    " 59733,\n",
    " 58702,\n",
    " 59642,\n",
    " 59091,\n",
    " 60173,\n",
    " 65379,\n",
    " 60286,\n",
    " 59700]"
   ]
  },
  {
   "cell_type": "markdown",
   "id": "ecf70591",
   "metadata": {},
   "source": [
    "### Execution Time of Batch Gradient Descent with OpenMP"
   ]
  },
  {
   "cell_type": "code",
   "execution_count": 3,
   "id": "ba0e80da",
   "metadata": {},
   "outputs": [
    {
     "name": "stdout",
     "output_type": "stream",
     "text": [
      "554040.7\n"
     ]
    }
   ],
   "source": [
    "## All Times are in Micro-Seconds\n",
    "\n",
    "BGD_OMP_1 =[ 110319,\n",
    " 107386,\n",
    " 109605,\n",
    " 108161,\n",
    " 108793,\n",
    " 108145,\n",
    " 107836,\n",
    " 107631,\n",
    " 108249,\n",
    " 107151]\n",
    "\n",
    "BGD_OMP_2 = [ 91011,\n",
    " 89634,\n",
    " 97426,\n",
    " 90253,\n",
    " 89692,\n",
    " 89926,\n",
    " 89915,\n",
    " 93245,\n",
    " 101413,\n",
    " 90280]\n",
    "\n",
    "BGD_OMP_4 = [ 92842,\n",
    " 94971,\n",
    " 92861,\n",
    " 94540,\n",
    " 92766,\n",
    " 95616,\n",
    " 100896,\n",
    " 94923,\n",
    " 92427,\n",
    " 93442]\n",
    "\n",
    "BGD_OMP_6 = [ 123322,\n",
    " 122972,\n",
    " 124230,\n",
    " 123854,\n",
    " 125307,\n",
    " 128474,\n",
    " 120872,\n",
    " 126040,\n",
    " 122634,\n",
    " 122459]\n",
    "\n",
    "BGD_OMP_8 = [159099,\n",
    " 157007,\n",
    " 155210,\n",
    " 156891,\n",
    " 161545,\n",
    " 157323,\n",
    " 160347,\n",
    " 159119,\n",
    " 155759,\n",
    " 160189]\n",
    "\n",
    "BGD_OMP_10 = [ 206613,\n",
    " 209333,\n",
    " 211021,\n",
    " 210554,\n",
    " 208418,\n",
    " 206272,\n",
    " 210895,\n",
    " 205812,\n",
    " 208176,\n",
    " 206602]\n",
    "\n",
    "BGD_OMP_12 = [ 264810,\n",
    " 266892,\n",
    " 263912,\n",
    " 269074,\n",
    " 266009,\n",
    " 264927,\n",
    " 262109,\n",
    " 264299,\n",
    " 263513,\n",
    " 265120]\n",
    "\n",
    "BGD_OMP_14 = [ 336423,\n",
    " 349780,\n",
    " 339141,\n",
    " 338466,\n",
    " 343786,\n",
    " 339146,\n",
    " 338184,\n",
    " 338294,\n",
    " 336154,\n",
    " 333228]\n",
    "\n",
    "BGD_OMP_16 = [ 548266,\n",
    "768296,\n",
    "897014,\n",
    "452844,\n",
    "457209,\n",
    "576444,\n",
    "491658,\n",
    "444404,\n",
    "445179,\n",
    "459093]\n",
    "\n",
    "\n",
    "\n",
    "print(np.mean(BGD_OMP_16))"
   ]
  },
  {
   "cell_type": "markdown",
   "id": "901069b6",
   "metadata": {},
   "source": [
    "### Execution Time of Adagrad without OpenMP"
   ]
  },
  {
   "cell_type": "code",
   "execution_count": 4,
   "id": "b102ce32",
   "metadata": {},
   "outputs": [],
   "source": [
    "ADA_NONE = [ 62397,\n",
    " 60488,\n",
    " 60446,\n",
    " 60248,\n",
    " 61495,\n",
    " 61276,\n",
    " 61814,\n",
    " 61800,\n",
    " 60950,\n",
    " 60663 ]"
   ]
  },
  {
   "cell_type": "markdown",
   "id": "40e9e518",
   "metadata": {},
   "source": [
    "### Execution Time of Adagrad with OpenMP"
   ]
  },
  {
   "cell_type": "code",
   "execution_count": 5,
   "id": "168d3d59",
   "metadata": {},
   "outputs": [],
   "source": [
    "ADA_OMP_1 = [ 110626,\n",
    " 108393,\n",
    " 111389,\n",
    " 110439,\n",
    " 109885,\n",
    " 109787,\n",
    " 111376,\n",
    " 111777,\n",
    " 111344,\n",
    " 111332]\n",
    "\n",
    "ADA_OMP_2 = [ 100346,\n",
    " 91014,\n",
    " 91749,\n",
    " 101735,\n",
    " 90974,\n",
    " 94628,\n",
    " 94503,\n",
    " 94767,\n",
    " 91578,\n",
    " 91987]\n",
    "\n",
    "ADA_OMP_4 = [ 98808,\n",
    " 95139,\n",
    " 96842,\n",
    " 96068,\n",
    " 97404,\n",
    " 97432,\n",
    " 95051,\n",
    " 98046,\n",
    " 99043,\n",
    " 97290]\n",
    "\n",
    "ADA_OMP_6 = [ 125031,\n",
    " 128081,\n",
    " 124764,\n",
    " 127262,\n",
    " 126933,\n",
    " 124328,\n",
    " 130623,\n",
    " 123565,\n",
    " 129960,\n",
    " 130624]\n",
    "\n",
    "ADA_OMP_8 = [ 158640,\n",
    " 155974,\n",
    " 167548,\n",
    " 158925,\n",
    " 159869,\n",
    " 158731,\n",
    " 178113,\n",
    " 161250,\n",
    " 162190,\n",
    " 200730]\n",
    "\n",
    "ADA_OMP_10 = [ 217850,\n",
    " 218723,\n",
    " 220992,\n",
    " 219895,\n",
    " 218704,\n",
    " 222837,\n",
    " 221291,\n",
    " 218942,\n",
    " 221875,\n",
    " 220779,]\n",
    "\n",
    "ADA_OMP_12 = [ 271706,\n",
    " 277017,\n",
    " 279694,\n",
    " 279234,\n",
    " 277243,\n",
    " 276403,\n",
    " 299140,\n",
    " 285639,\n",
    " 285186,\n",
    " 279024]\n",
    "\n",
    "ADA_OMP_14 = [ 336474,\n",
    " 416005,\n",
    " 342266,\n",
    " 458375,\n",
    " 392970,\n",
    " 343611,\n",
    " 346309,\n",
    " 340382,\n",
    " 339876,\n",
    " 338387]\n",
    "\n",
    "ADA_OMP_16 = [ 519848,\n",
    " 506268,\n",
    " 576317,\n",
    " 454631,\n",
    " 466326,\n",
    " 481993,\n",
    " 456824,\n",
    " 458454,\n",
    " 454845,\n",
    " 447897]"
   ]
  },
  {
   "cell_type": "markdown",
   "id": "d586b08c",
   "metadata": {},
   "source": [
    "## Averaged Execution Times"
   ]
  },
  {
   "cell_type": "code",
   "execution_count": 6,
   "id": "69c3389f",
   "metadata": {},
   "outputs": [],
   "source": [
    "avgBGD_NONE = np.mean(BGD_NONE)\n",
    "\n",
    "avgBGD_OMP_1 = np.mean(BGD_OMP_1)\n",
    "avgBGD_OMP_2 = np.mean(BGD_OMP_2)\n",
    "avgBGD_OMP_4 = np.mean(BGD_OMP_4)\n",
    "avgBGD_OMP_6 = np.mean(BGD_OMP_6)\n",
    "avgBGD_OMP_8 = np.mean(BGD_OMP_8)\n",
    "avgBGD_OMP_10 = np.mean(BGD_OMP_10)\n",
    "avgBGD_OMP_12 = np.mean(BGD_OMP_12)\n",
    "avgBGD_OMP_14 = np.mean(BGD_OMP_14)\n",
    "avgBGD_OMP_16 = np.mean(BGD_OMP_16)\n",
    "\n",
    "avgADA_NONE = np.mean(ADA_NONE)\n",
    "\n",
    "avgADA_OMP_1 = np.mean(ADA_OMP_1)\n",
    "avgADA_OMP_2 = np.mean(ADA_OMP_2)\n",
    "avgADA_OMP_4 = np.mean(ADA_OMP_4)\n",
    "avgADA_OMP_6 = np.mean(ADA_OMP_6)\n",
    "avgADA_OMP_8 = np.mean(ADA_OMP_8)\n",
    "avgADA_OMP_10 = np.mean(ADA_OMP_10)\n",
    "avgADA_OMP_12 = np.mean(ADA_OMP_12)\n",
    "avgADA_OMP_14 = np.mean(ADA_OMP_14)\n",
    "avgADA_OMP_16 = np.mean(ADA_OMP_16)"
   ]
  },
  {
   "cell_type": "markdown",
   "id": "80466962",
   "metadata": {},
   "source": [
    "## Table for Execution Times\n"
   ]
  },
  {
   "cell_type": "code",
   "execution_count": 7,
   "id": "2ed5a75a",
   "metadata": {},
   "outputs": [
    {
     "name": "stdout",
     "output_type": "stream",
     "text": [
      "# of Threads      Average Execution Time (μs)\n",
      "--------------  -----------------------------\n",
      "NONE                                  60206.5\n",
      "1                                    108328\n",
      "2                                     92279.5\n",
      "4                                     94528.4\n",
      "6                                    124016\n",
      "8                                    158249\n",
      "10                                   208370\n",
      "12                                   265066\n",
      "14                                   339260\n",
      "16                                   554041\n",
      "# of Threads      Average Execution Time (μs)\n",
      "--------------  -----------------------------\n",
      "NONE                                  61157.7\n",
      "1                                    110635\n",
      "2                                     94328.1\n",
      "4                                     97112.3\n",
      "6                                    127117\n",
      "8                                    166197\n",
      "10                                   220189\n",
      "12                                   281029\n",
      "14                                   365466\n",
      "16                                   482340\n"
     ]
    }
   ],
   "source": [
    "## BGD TABLE\n",
    "print(tabulate({\"# of Threads\": ['NONE', 1,2,4,6,8,10,12,14,16], \"Average Execution Time (\\u03BCs)\": [avgBGD_NONE,avgBGD_OMP_1,avgBGD_OMP_2,avgBGD_OMP_4,avgBGD_OMP_6,avgBGD_OMP_8,avgBGD_OMP_10,avgBGD_OMP_12,avgBGD_OMP_14,avgBGD_OMP_16]}, headers=\"keys\"))\n",
    "\n",
    "## Adagrad TABLE\n",
    "print(tabulate({\"# of Threads\": ['NONE', 1,2,4,6,8,10,12,14,16], \"Average Execution Time (\\u03BCs)\": [avgADA_NONE,avgADA_OMP_1,avgADA_OMP_2,avgADA_OMP_4,avgADA_OMP_6,avgADA_OMP_8,avgADA_OMP_10,avgADA_OMP_12,avgADA_OMP_14,avgADA_OMP_16]}, headers=\"keys\"))\n"
   ]
  },
  {
   "cell_type": "code",
   "execution_count": 8,
   "id": "b116cfba",
   "metadata": {},
   "outputs": [
    {
     "data": {
      "image/png": "[encoded data removed]",
      "text/plain": [
       "<Figure size 432x288 with 1 Axes>"
      ]
     },
     "metadata": {
      "needs_background": "light"
     },
     "output_type": "display_data"
    }
   ],
   "source": [
    "plt.plot([1,2,4,6,8,10,12,14,16], [avgBGD_OMP_1,avgBGD_OMP_2,avgBGD_OMP_4,avgBGD_OMP_6,avgBGD_OMP_8,avgBGD_OMP_10,avgBGD_OMP_12,avgBGD_OMP_14,avgBGD_OMP_16])\n",
    "plt.ylabel('Average Execution Time (\\u03BCs)')\n",
    "plt.xlabel('# of Threads')\n",
    "plt.title('Batch Gradient Descent')\n",
    "plt.show()"
   ]
  },
  {
   "cell_type": "code",
   "execution_count": 9,
   "id": "3f7bdeaf",
   "metadata": {},
   "outputs": [
    {
     "data": {
      "image/png": "[encoded data removed]",
      "text/plain": [
       "<Figure size 432x288 with 1 Axes>"
      ]
     },
     "metadata": {
      "needs_background": "light"
     },
     "output_type": "display_data"
    }
   ],
   "source": [
    "plt.plot([1,2,4,6,8,10,12,14,16], [avgADA_OMP_1,avgADA_OMP_2,avgADA_OMP_4,avgADA_OMP_6,avgADA_OMP_8,avgADA_OMP_10,avgADA_OMP_12,avgADA_OMP_14,avgADA_OMP_16])\n",
    "plt.ylabel('Average Execution Time (\\u03BCs)')\n",
    "plt.xlabel('# of Threads')\n",
    "plt.title('Adagrad')\n",
    "plt.show()\n",
    "\n"
   ]
  }
 ],
 "metadata": {
  "kernelspec": {
   "display_name": "Python 3 (ipykernel)",
   "language": "python",
   "name": "python3"
  },
  "language_info": {
   "codemirror_mode": {
    "name": "ipython",
    "version": 3
   },
   "file_extension": ".py",
   "mimetype": "text/x-python",
   "name": "python",
   "nbconvert_exporter": "python",
   "pygments_lexer": "ipython3",
   "version": "3.8.8"
  }
 },
 "nbformat": 4,
 "nbformat_minor": 5
}
